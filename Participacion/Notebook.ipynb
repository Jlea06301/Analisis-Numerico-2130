{
    "cells": [
        {
            "cell_type": "markdown",
            "source": [
                "import sys\r\n",
                "\r\n",
                "e = 1/10000000000000000\r\n",
                "\r\n",
                "if len(sys.argv) == 3:\r\n",
                "    n = int(sys.argv[1])\r\n",
                "    x = int(sys.argv[2])\r\n",
                "else: print (\"El número de argumentos es incompleto\")    \r\n",
                "\r\n",
                "def calcular (x,n):\r\n",
                "    return 1/2*(x+(n/x))\r\n",
                "\r\n",
                "\r\n",
                "y = calcular (x,n)\r\n",
                "while abs(x-y) > e:\r\n",
                "    print (\"Y = \",y)\r\n",
                "    x = y\r\n",
                "    y = calcular (x,n)\r\n",
                "\r\n"
            ],
            "metadata": {}
        },
        {
            "cell_type": "code",
            "execution_count": null,
            "source": [
                "!python Raiz.py 7 2\r\n",
                "\r\n"
            ],
            "outputs": [],
            "metadata": {}
        },
        {
            "cell_type": "code",
            "execution_count": null,
            "source": [
                "import numpy\r\n",
                "\r\n",
                "coeficientes = [1,-2,4/3,-8/27]\r\n",
                "x = 4\r\n",
                "\r\n",
                "y = numpy.polyval(coeficientes,x)\r\n",
                "print (y)"
            ],
            "outputs": [],
            "metadata": {}
        },
        {
            "cell_type": "code",
            "execution_count": null,
            "source": [
                "import random\r\n",
                "estado = True\r\n",
                "matriz = []\r\n",
                "for i in range(450):\r\n",
                "     matriz.append([0]*1500)\r\n",
                "\r\n",
                "for i in range (405000):\r\n",
                "     matriz [random.randint(0,449)] [random.randint(0,1499)] = 1\r\n",
                "for i in range (450):\r\n",
                "     for j in range (1300):\r\n",
                "           \r\n",
                "           if matriz [i][j] == 0 and estado == True:\r\n",
                "                matriz [i][j] = 0.5\r\n",
                "                estado = False\r\n",
                "           else: estado = True  \r\n",
                "\r\n",
                "\r\n",
                "total_dia = [0]*450\r\n",
                "for x in range (450):\r\n",
                "     for v in range (1500):\r\n",
                "          b = matriz [x][v]\r\n",
                "          total_dia[x] += b\r\n",
                "\r\n",
                "print (total_dia)\r\n"
            ],
            "outputs": [],
            "metadata": {}
        }
    ],
    "metadata": {
        "orig_nbformat": 4,
        "language_info": {
            "name": "python",
            "version": "3.8.8",
            "mimetype": "text/x-python",
            "codemirror_mode": {
                "name": "ipython",
                "version": 3
            },
            "pygments_lexer": "ipython3",
            "nbconvert_exporter": "python",
            "file_extension": ".py"
        },
        "kernelspec": {
            "name": "python3",
            "display_name": "Python 3.8.8 64-bit ('base': conda)"
        },
        "interpreter": {
            "hash": "6da7165ef3768566cc8ccce9b6af186c5d2e7c4c7c170fa886640f926a345dac"
        }
    },
    "nbformat": 4,
    "nbformat_minor": 2
}